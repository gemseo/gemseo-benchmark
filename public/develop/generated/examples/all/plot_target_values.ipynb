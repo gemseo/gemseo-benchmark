{
  "cells": [
    {
      "cell_type": "code",
      "execution_count": null,
      "metadata": {
        "collapsed": false
      },
      "outputs": [],
      "source": [
        "%matplotlib inline"
      ]
    },
    {
      "cell_type": "markdown",
      "metadata": {},
      "source": [
        "\nGenerate target values\n======================\n"
      ]
    },
    {
      "cell_type": "markdown",
      "metadata": {},
      "source": [
        "In this example,\nwe generate **target values** for a problem\nbased on the performances of an algorithm configuration.\n\nImports\n-------\nWe start by making the necessary imports.\n\n"
      ]
    },
    {
      "cell_type": "code",
      "execution_count": null,
      "metadata": {
        "collapsed": false
      },
      "outputs": [],
      "source": [
        "from __future__ import annotations\n\nfrom gemseo import compute_doe\nfrom gemseo import configure\nfrom gemseo.problems.optimization.power_2 import Power2\n\nfrom gemseo_benchmark.algorithms.algorithm_configuration import AlgorithmConfiguration\nfrom gemseo_benchmark.algorithms.algorithms_configurations import (\n    AlgorithmsConfigurations,\n)\nfrom gemseo_benchmark.problems.problem import Problem"
      ]
    },
    {
      "cell_type": "markdown",
      "metadata": {},
      "source": [
        "Let us consider the problem [Power2][gemseo.problems.analytical.power_2.Power2]\nalready implemented in GEMSEO.\n\n"
      ]
    },
    {
      "cell_type": "code",
      "execution_count": null,
      "metadata": {
        "collapsed": false
      },
      "outputs": [],
      "source": [
        "problem = Problem(\n    name=\"Power2\",\n    optimization_problem_creator=Power2,\n    optimum=Power2.get_solution()[1],\n)"
      ]
    },
    {
      "cell_type": "markdown",
      "metadata": {},
      "source": [
        "We define ten starting points by optimized Latin hypercube sampling (LHS).\n\n"
      ]
    },
    {
      "cell_type": "code",
      "execution_count": null,
      "metadata": {
        "collapsed": false
      },
      "outputs": [],
      "source": [
        "design_space = problem.creator().design_space\nproblem.start_points = compute_doe(design_space, \"OT_OPT_LHS\", 10)"
      ]
    },
    {
      "cell_type": "markdown",
      "metadata": {},
      "source": [
        "Let use the optimizer COBYLA to generate performance histories on the problem.\n\n"
      ]
    },
    {
      "cell_type": "code",
      "execution_count": null,
      "metadata": {
        "collapsed": false
      },
      "outputs": [],
      "source": [
        "algorithms_configurations = AlgorithmsConfigurations(\n    AlgorithmConfiguration(\n        \"NLOPT_COBYLA\",\n        max_iter=65,\n        eq_tolerance=1e-4,\n        ineq_tolerance=0.0,\n    )\n)"
      ]
    },
    {
      "cell_type": "markdown",
      "metadata": {},
      "source": [
        "Here we choose to deactivate the functions counters, progress bars and bounds check\nof GEMSEO to accelerate the script.\n\n"
      ]
    },
    {
      "cell_type": "code",
      "execution_count": null,
      "metadata": {
        "collapsed": false
      },
      "outputs": [],
      "source": [
        "configure(\n    enable_function_statistics=False,\n    enable_progress_bar=False,\n    check_desvars_bounds=False,\n)"
      ]
    },
    {
      "cell_type": "markdown",
      "metadata": {},
      "source": [
        "Let us compute five target values for the problem.\nThis automatic procedure has two stages:\n\n1. execution of the specified algorithms once for each of the starting points,\n2. automatic selection of target values based on the algorithms histories.\n\nThese targets represent the milestones of the problem resolution.\n\n"
      ]
    },
    {
      "cell_type": "code",
      "execution_count": null,
      "metadata": {
        "collapsed": false
      },
      "outputs": [],
      "source": [
        "problem.compute_targets(5, algorithms_configurations, best_target_tolerance=1e-5)"
      ]
    },
    {
      "cell_type": "markdown",
      "metadata": {},
      "source": [
        "We can plot the algorithms histories used as reference\nfor the computation of the target values,\nwith the objective value on the vertical axis\nand the number of functions evaluations on the horizontal axis.\n\n"
      ]
    },
    {
      "cell_type": "code",
      "execution_count": null,
      "metadata": {
        "collapsed": false
      },
      "outputs": [],
      "source": [
        "problem.targets_generator.plot_histories(problem.optimum, show=True)"
      ]
    },
    {
      "cell_type": "markdown",
      "metadata": {},
      "source": [
        "Finally, we can plot the target values:\nthe objective value of each of the five targets is represented\non the vertical axis with a marker indicating whether the target is feasible or not.\n\n"
      ]
    },
    {
      "cell_type": "code",
      "execution_count": null,
      "metadata": {
        "collapsed": false
      },
      "outputs": [],
      "source": [
        "problem.target_values.plot()"
      ]
    }
  ],
  "metadata": {
    "kernelspec": {
      "display_name": "Python 3",
      "language": "python",
      "name": "python3"
    },
    "language_info": {
      "codemirror_mode": {
        "name": "ipython",
        "version": 3
      },
      "file_extension": ".py",
      "mimetype": "text/x-python",
      "name": "python",
      "nbconvert_exporter": "python",
      "pygments_lexer": "ipython3",
      "version": "3.9.19"
    }
  },
  "nbformat": 4,
  "nbformat_minor": 0
}